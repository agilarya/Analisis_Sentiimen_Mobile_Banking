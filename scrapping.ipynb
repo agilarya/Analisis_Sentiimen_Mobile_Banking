{
 "cells": [
  {
   "cell_type": "markdown",
   "id": "d9a36aea",
   "metadata": {},
   "source": [
    "# SCRAPPING DATA CIMB NIAGA"
   ]
  },
  {
   "cell_type": "markdown",
   "id": "354f1858",
   "metadata": {},
   "source": [
    "Teknik Scapping digunakan untuk pengambilan data dalam skala 10000 record"
   ]
  },
  {
   "cell_type": "code",
   "execution_count": 3,
   "id": "69880948",
   "metadata": {},
   "outputs": [
    {
     "name": "stdout",
     "output_type": "stream",
     "text": [
      "Requirement already satisfied: google-play-scraper in c:\\users\\user\\appdata\\local\\packages\\pythonsoftwarefoundation.python.3.12_qbz5n2kfra8p0\\localcache\\local-packages\\python311\\site-packages (1.2.7)\n"
     ]
    },
    {
     "name": "stderr",
     "output_type": "stream",
     "text": [
      "\n",
      "[notice] A new release of pip is available: 24.0 -> 25.0.1\n",
      "[notice] To update, run: C:\\Users\\user\\AppData\\Local\\Microsoft\\WindowsApps\\PythonSoftwareFoundation.Python.3.11_qbz5n2kfra8p0\\python.exe -m pip install --upgrade pip\n"
     ]
    }
   ],
   "source": [
    "!pip install google-play-scraper"
   ]
  },
  {
   "cell_type": "code",
   "execution_count": 4,
   "id": "ff737a05",
   "metadata": {},
   "outputs": [],
   "source": [
    "# Mengimpor pustaka google_play_scraper untuk mengakses ulasan dan informasi aplikasi dari Google Play Store.\n",
    "from google_play_scraper import app, reviews, Sort, reviews_all"
   ]
  },
  {
   "cell_type": "code",
   "execution_count": 5,
   "id": "5d95ee0b",
   "metadata": {},
   "outputs": [],
   "source": [
    "# Mengimpor pustaka google_play_scraper untuk mengakses ulasan dan informasi aplikasi dari Google Play Store.\n",
    "from google_play_scraper import app, reviews_all, Sort\n",
    "\n",
    "# Mengambil semua ulasan dari aplikasi dengan ID 'com.telkom.tracencare' di Google Play Store.\n",
    "# Proses scraping mungkin memerlukan beberapa saat tergantung pada jumlah ulasan yang ada.\n",
    "scrapreview,continuation_token= reviews(\n",
    "    'id.co.cimbniaga.mobile.android',   # ID aplikasi\n",
    "    lang='id',              # Bahasa ulasan (default: 'en')\n",
    "    country='id',           # Negara (default: 'us')\n",
    "    sort=Sort.MOST_RELEVANT,# Urutan ulasan (default: Sort.MOST_RELEVANT)\n",
    "    count=10000             # Jumlah maksimum ulasan yang ingin diambil\n",
    ")"
   ]
  },
  {
   "cell_type": "code",
   "execution_count": 6,
   "id": "76f68b9f",
   "metadata": {},
   "outputs": [],
   "source": [
    "import pandas as pd  # Pandas untuk manipulasi dan analisis data\n",
    "pd.options.mode.chained_assignment = None  # Menonaktifkan peringatan chaining\n",
    "\n",
    "app_reviews_df = pd.DataFrame(scrapreview)\n",
    "app_reviews_df.shape\n",
    "app_reviews_df.head()\n",
    "app_reviews_df.to_csv('scraping.csv', index=False)"
   ]
  }
 ],
 "metadata": {
  "kernelspec": {
   "display_name": "Python 3",
   "language": "python",
   "name": "python3"
  },
  "language_info": {
   "codemirror_mode": {
    "name": "ipython",
    "version": 3
   },
   "file_extension": ".py",
   "mimetype": "text/x-python",
   "name": "python",
   "nbconvert_exporter": "python",
   "pygments_lexer": "ipython3",
   "version": "3.12.10"
  }
 },
 "nbformat": 4,
 "nbformat_minor": 5
}
